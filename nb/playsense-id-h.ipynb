{
 "cells": [
  {
   "cell_type": "markdown",
   "metadata": {},
   "source": [
    "# R data"
   ]
  },
  {
   "cell_type": "code",
   "execution_count": null,
   "metadata": {},
   "outputs": [],
   "source": [
    "u1_csv=r'..\\data\\haptic_data\\flexible-haptic\\controller_data_user1_flexible-haptic_20250327_160454.csv'\n",
    "u2_csv=r'..\\data\\haptic_data\\flexible-haptic\\controller_data_user3_flexible-haptic_20250327_161040.csv'\n",
    "u3_csv=r'..\\data\\haptic_data\\flexible-haptic\\controller_data_user3_flexible-haptic_20250327_164529.csv'\n",
    "u4_csv=r'..\\data\\haptic_data\\flexible-haptic\\controller_data_user4_flexible-haptic_20250327_165732.csv'\n",
    "\n",
    "u1_wav=r'../data/haptic_data/flexible-haptic/audio_user1_flexible-haptic_20250327_160454.wav'\n",
    "u2_wav=r'../data/haptic_data/flexible-haptic/audio_user3_flexible-haptic_20250327_161040.wav'\n",
    "u3_wav=r'../data/haptic_data/flexible-haptic/audio_user3_flexible-haptic_20250327_164529.wav'\n",
    "u4_wav=r'../data/haptic_data/flexible-haptic/audio_user4_flexible-haptic_20250327_165732.wav'\n"
   ]
  },
  {
   "cell_type": "markdown",
   "metadata": {},
   "source": [
    "# Pre data"
   ]
  },
  {
   "cell_type": "markdown",
   "metadata": {},
   "source": [
    "# datastruct\n",
    "\n",
    "- *audio_haptic # 200ms  150 play +50 buffer\n",
    "- audio_haptic_spec \n",
    "- *audio_press  # 60 ms \n",
    "- audio_press_spec\n",
    "- audio_press_mfcc\n",
    "- *Inertial_press  # 60  fixed stgart  point \n",
    "- *Inertial_haptic  # 60   dynamic start point\n",
    "- *Inertial_whole # can overlap 150 ?\n",
    "- Audio_whole  # can overlap   300ms? \n"
   ]
  },
  {
   "cell_type": "markdown",
   "metadata": {},
   "source": [
    "- Rule\n",
    "- Find the highest power 150ms, and extend to the left + 50ms , which is 200ms for the \n",
    "    - audio_haptic\n",
    "    - Mark the start time  T1\n",
    "- Find the left start from T1 boundary of the none,none,none,none,cross,cross,cross \n",
    "    - Mark the start time T2 \n",
    "    - Based on the T2 at CSV go to left + 10 records ,mark the time T3\n",
    "- From T3 go to right +60 records mark the inertial_press data( 60 records)\n",
    "    - Inertial _press\n",
    "\n",
    "- From T1 find the csv time +60 records \n",
    "    - inertial_haptic\n",
    "\n",
    "- From T3 +150 records\n",
    "    - Inertial_whole\n",
    "\n",
    "- From T3 + 200 ms and then within 200ms find the average highest power 60ms \n",
    "    - Audio_press\n",
    "\n",
    "- From T3 - end of the audio_haptic \n",
    "    - Audio_whole"
   ]
  },
  {
   "cell_type": "markdown",
   "metadata": {},
   "source": [
    "ineritl_press \n",
    "inertial_press + press mfcc\n",
    "inertial_press + hatpcic spec\n",
    "inertial_whole + press mfcc + hatpci spec"
   ]
  },
  {
   "cell_type": "code",
   "execution_count": null,
   "metadata": {},
   "outputs": [],
   "source": []
  }
 ],
 "metadata": {
  "kernelspec": {
   "display_name": "pyds",
   "language": "python",
   "name": "python3"
  },
  "language_info": {
   "name": "python",
   "version": "3.13.2"
  }
 },
 "nbformat": 4,
 "nbformat_minor": 2
}
